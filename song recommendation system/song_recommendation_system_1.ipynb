{
 "cells": [
  {
   "cell_type": "markdown",
   "id": "a1b12328-041b-4218-93f4-7abaadd25dab",
   "metadata": {},
   "source": [
    "## Song Recommendation Based on Song Topic"
   ]
  },
  {
   "cell_type": "markdown",
   "id": "b9c56949-7b58-43ed-81b9-7c258d17e1f5",
   "metadata": {},
   "source": [
    "This notebook recommends songs based on the user's mood and preferences, utilizing Gradio for interactive user input. The system uses the Fine-Tuned Feedforward Neural Network (FFNN) model, which achieved the best accuracy, to generate suggestions. Users can select a mood or topic, and the system provides up to ten random songs matching that topic. The system processes the song lyrics, applies a confidence threshold to select appropriate songs, and falls back on the topic if there aren’t enough confident songs available."
   ]
  },
  {
   "cell_type": "code",
   "execution_count": 10,
   "id": "700769ac",
   "metadata": {},
   "outputs": [
    {
     "name": "stderr",
     "output_type": "stream",
     "text": [
      "/var/folders/kz/vb4s2bzd5m59rdxjpt9vyk_h0000gn/T/ipykernel_57053/745060498.py:51: SettingWithCopyWarning: \n",
      "A value is trying to be set on a copy of a slice from a DataFrame.\n",
      "Try using .loc[row_indexer,col_indexer] = value instead\n",
      "\n",
      "See the caveats in the documentation: https://pandas.pydata.org/pandas-docs/stable/user_guide/indexing.html#returning-a-view-versus-a-copy\n",
      "  topic_df['lyric_tokens'] = topic_df['lyrics'].apply(preprocess)\n",
      "/var/folders/kz/vb4s2bzd5m59rdxjpt9vyk_h0000gn/T/ipykernel_57053/745060498.py:52: SettingWithCopyWarning: \n",
      "A value is trying to be set on a copy of a slice from a DataFrame.\n",
      "Try using .loc[row_indexer,col_indexer] = value instead\n",
      "\n",
      "See the caveats in the documentation: https://pandas.pydata.org/pandas-docs/stable/user_guide/indexing.html#returning-a-view-versus-a-copy\n",
      "  topic_df['lyric_tokens'] = topic_df['lyric_tokens'].apply(lambda tokens: ' '.join(tokens))\n",
      "/var/folders/kz/vb4s2bzd5m59rdxjpt9vyk_h0000gn/T/ipykernel_57053/745060498.py:56: SettingWithCopyWarning: \n",
      "A value is trying to be set on a copy of a slice from a DataFrame.\n",
      "Try using .loc[row_indexer,col_indexer] = value instead\n",
      "\n",
      "See the caveats in the documentation: https://pandas.pydata.org/pandas-docs/stable/user_guide/indexing.html#returning-a-view-versus-a-copy\n",
      "  topic_df['topic_labels'] = label_encoder.fit_transform(topic_df['topic'])\n",
      "/Users/christinesangphet/anaconda3/lib/python3.11/site-packages/gradio/interface.py:415: UserWarning: The `allow_flagging` parameter in `Interface` is deprecated.Use `flagging_mode` instead.\n",
      "  warnings.warn(\n"
     ]
    },
    {
     "name": "stdout",
     "output_type": "stream",
     "text": [
      "* Running on local URL:  http://127.0.0.1:7873\n",
      "* Running on public URL: https://34adb08df779172564.gradio.live\n",
      "\n",
      "This share link expires in 1 week. For free permanent hosting and GPU upgrades, run `gradio deploy` from the terminal in the working directory to deploy to Hugging Face Spaces (https://huggingface.co/spaces)\n"
     ]
    },
    {
     "data": {
      "text/html": [
       "<div><iframe src=\"https://34adb08df779172564.gradio.live\" width=\"100%\" height=\"500\" allow=\"autoplay; camera; microphone; clipboard-read; clipboard-write;\" frameborder=\"0\" allowfullscreen></iframe></div>"
      ],
      "text/plain": [
       "<IPython.core.display.HTML object>"
      ]
     },
     "metadata": {},
     "output_type": "display_data"
    },
    {
     "data": {
      "text/plain": []
     },
     "execution_count": 10,
     "metadata": {},
     "output_type": "execute_result"
    }
   ],
   "source": [
    "import gradio as gr\n",
    "import pandas as pd\n",
    "import numpy as np\n",
    "import random\n",
    "import torch\n",
    "from torch import nn\n",
    "import torch.optim as optim\n",
    "from sklearn.feature_extraction.text import TfidfVectorizer\n",
    "from sklearn.preprocessing import LabelEncoder\n",
    "from torch.utils.data import TensorDataset, DataLoader\n",
    "import re\n",
    "import string\n",
    "import inflect\n",
    "from nltk.tokenize import word_tokenize\n",
    "from nltk.corpus import stopwords\n",
    "from nltk.stem import WordNetLemmatizer\n",
    "import nltk\n",
    "\n",
    "# Load and preprocess data\n",
    "df = pd.read_csv('music_data.csv')\n",
    "topic_df = df[['artist_name', 'track_name', 'lyrics', 'topic']]\n",
    "\n",
    "# Preprocessing function\n",
    "def preprocess(text):\n",
    "    p = inflect.engine()\n",
    "\n",
    "    # Convert text to lowercase\n",
    "    text = text.lower()\n",
    "    \n",
    "    # Remove punctuation\n",
    "    text = re.sub(f\"[{re.escape(string.punctuation)}]\", \"\", text)\n",
    "\n",
    "    # Replace numeric tokens with words\n",
    "    text = re.sub(r'\\b\\d+\\b', lambda match: p.number_to_words(match.group()), text)\n",
    "    \n",
    "    # Tokenize words\n",
    "    tokens = word_tokenize(text)\n",
    "    \n",
    "    # Load stopwords\n",
    "    stop_words = set(stopwords.words(\"english\"))\n",
    "    \n",
    "    # Initialize lemmatizer\n",
    "    lemmatizer = WordNetLemmatizer()\n",
    "    \n",
    "    # Lemmatize and filter tokens\n",
    "    tokens = [lemmatizer.lemmatize(word) for word in tokens if word.isalpha() and word not in stop_words]\n",
    "    \n",
    "    return tokens\n",
    "\n",
    "# Lyrics pre-processing\n",
    "topic_df['lyric_tokens'] = topic_df['lyrics'].apply(preprocess)\n",
    "topic_df['lyric_tokens'] = topic_df['lyric_tokens'].apply(lambda tokens: ' '.join(tokens))\n",
    "\n",
    "# Label encoding\n",
    "label_encoder = LabelEncoder()\n",
    "topic_df['topic_labels'] = label_encoder.fit_transform(topic_df['topic'])\n",
    "\n",
    "# Create n-gram embeddings\n",
    "vectorizer = TfidfVectorizer(\n",
    "    ngram_range=(1, 2),  # Unigrams + bigrams\n",
    "    max_features=5000,   # Limit feature size\n",
    ")\n",
    "X = vectorizer.fit_transform(topic_df['lyric_tokens'])\n",
    "y = topic_df['topic_labels']\n",
    "\n",
    "# Define NN model\n",
    "class LyricClassifier(nn.Module):\n",
    "    def __init__(self, input_dim, num_classes):\n",
    "        super(LyricClassifier, self).__init__()\n",
    "        \n",
    "        # Define the layers\n",
    "        self.fc1 = nn.Linear(input_dim, 256)\n",
    "        self.relu1 = nn.ReLU()\n",
    "        self.dropout1 = nn.Dropout(0.3)\n",
    "        \n",
    "        self.fc2 = nn.Linear(256, 128)\n",
    "        self.relu2 = nn.ReLU()\n",
    "        self.dropout2 = nn.Dropout(0.3)\n",
    "        \n",
    "        self.fc3 = nn.Linear(128, num_classes)\n",
    "\n",
    "    def forward(self, x):\n",
    "        x = self.dropout1(self.relu1(self.fc1(x)))\n",
    "        x = self.dropout2(self.relu2(self.fc2(x)))\n",
    "        x = self.fc3(x)\n",
    "        return x\n",
    "\n",
    "# Initialize model\n",
    "model = LyricClassifier(input_dim=X.shape[1], num_classes=len(torch.unique(torch.from_numpy(y.values))))\n",
    "\n",
    "unique_topics = sorted(topic_df['topic'].unique())\n",
    "\n",
    "def recommend_songs(topic_input, num_songs=5):\n",
    "    # Convert topic to label\n",
    "    topic_label = label_encoder.transform([topic_input])[0]\n",
    "    \n",
    "    # Predict probabilities\n",
    "    X_all = vectorizer.transform(topic_df['lyric_tokens'])\n",
    "    X_all_tensor = torch.from_numpy(X_all.toarray()).float()\n",
    "    \n",
    "    with torch.no_grad():\n",
    "        probabilities = torch.softmax(model(X_all_tensor), dim=1)\n",
    "    \n",
    "    # Add confidence scores to dataframe\n",
    "    topic_df['topic_confidence'] = probabilities[:, topic_label].numpy()\n",
    "    \n",
    "    # Get all songs that have at least moderate confidence for this topic\n",
    "    confident_songs = topic_df[topic_df['topic_confidence'] > 0.5]  \n",
    "    songs_for_topic = confident_songs[confident_songs['topic'] == topic_input]\n",
    "    \n",
    "    # If we don't have enough confident songs, fall back to regular matching\n",
    "    if len(songs_for_topic) < num_songs:\n",
    "        songs_for_topic = topic_df[topic_df['topic'] == topic_input]\n",
    "    \n",
    "    # Randomly select fresh recommendations each time\n",
    "    recommendations = songs_for_topic.sample(n=min(num_songs, len(songs_for_topic)), \n",
    "                                          replace=False)\n",
    "    \n",
    "    # Format output\n",
    "    return \"\\n\".join([f\"{row['track_name']} by {row['artist_name']}\" \n",
    "                     for _, row in recommendations.iterrows()])\n",
    "\n",
    "# Create a single Gradio interface (removed all the duplicate definitions)\n",
    "iface = gr.Interface(\n",
    "    fn=recommend_songs,\n",
    "    inputs=[\n",
    "        gr.Dropdown(choices=unique_topics, label=\"🎤 Select a Song Topic\"),\n",
    "        gr.Slider(1, 10, value=5, step=1, label=\"🔢 Number of Songs\")\n",
    "    ],\n",
    "    outputs=gr.Textbox(label=\"Recommended Songs\"),\n",
    "    title=\"🎵 Neural Network-Powered Song Recommendation System Based on Song Topic\",\n",
    "    description=\"Pick a topic that matches your mood or preference, and get some song suggestions!\",\n",
    "    allow_flagging=\"never\"   \n",
    ")\n",
    "\n",
    "iface.launch(share=True)"
   ]
  },
  {
   "cell_type": "code",
   "execution_count": 17,
   "id": "1f91f97e-e1ab-4466-b66a-0ac5d0337380",
   "metadata": {},
   "outputs": [
    {
     "data": {
      "text/plain": [
       "(28372, 5000)"
      ]
     },
     "execution_count": 17,
     "metadata": {},
     "output_type": "execute_result"
    }
   ],
   "source": [
    "X.shape"
   ]
  }
 ],
 "metadata": {
  "kernelspec": {
   "display_name": "Python 3 (ipykernel)",
   "language": "python",
   "name": "python3"
  },
  "language_info": {
   "codemirror_mode": {
    "name": "ipython",
    "version": 3
   },
   "file_extension": ".py",
   "mimetype": "text/x-python",
   "name": "python",
   "nbconvert_exporter": "python",
   "pygments_lexer": "ipython3",
   "version": "3.11.0"
  }
 },
 "nbformat": 4,
 "nbformat_minor": 5
}
